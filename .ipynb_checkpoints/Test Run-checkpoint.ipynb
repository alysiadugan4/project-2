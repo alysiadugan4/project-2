{
 "cells": [
  {
   "cell_type": "code",
   "execution_count": 13,
   "metadata": {},
   "outputs": [],
   "source": [
    "from bs4 import BeautifulSoup\n",
    "import requests\n",
    "import pandas as pd\n",
    "from splinter import Browser\n",
    "from webdriver_manager.chrome import ChromeDriverManager"
   ]
  },
  {
   "cell_type": "code",
   "execution_count": 14,
   "metadata": {},
   "outputs": [
    {
     "name": "stderr",
     "output_type": "stream",
     "text": [
      "\n",
      "\n",
      "====== WebDriver manager ======\n",
      "Current google-chrome version is 93.0.4577\n",
      "Get LATEST driver version for 93.0.4577\n",
      "Driver [/Users/zhuolima/.wdm/drivers/chromedriver/mac64/93.0.4577.15/chromedriver] found in cache\n"
     ]
    }
   ],
   "source": [
    "executable_path = {'executable_path': ChromeDriverManager().install()}\n",
    "browser = Browser('firefox', **executable_path, headless=False)"
   ]
  },
  {
   "cell_type": "code",
   "execution_count": 15,
   "metadata": {},
   "outputs": [],
   "source": [
    "url = 'https://www.imdb.com/list/ls084003934/?sort=user_rating,desc&st_dt=&mode=detail&page=1'\n",
    "browser.visit(url)"
   ]
  },
  {
   "cell_type": "code",
   "execution_count": 16,
   "metadata": {},
   "outputs": [],
   "source": [
    "response = requests.get(url)"
   ]
  },
  {
   "cell_type": "code",
   "execution_count": 17,
   "metadata": {},
   "outputs": [],
   "source": [
    "soup = BeautifulSoup(response.text, 'html.parser')"
   ]
  },
  {
   "cell_type": "code",
   "execution_count": 18,
   "metadata": {},
   "outputs": [],
   "source": [
    "titles = soup.find_all('div', class_='lister-item mode-detail')"
   ]
  },
  {
   "cell_type": "code",
   "execution_count": 19,
   "metadata": {},
   "outputs": [
    {
     "name": "stdout",
     "output_type": "stream",
     "text": [
      "['\\nJojo Rabbit\\n', '\\nBooksmart\\n', '\\nParasite\\n', '\\nYesterday\\n', '\\nToy Story 4\\n', '\\nKlaus\\n', '\\nWaves\\n', '\\nWeathering with You\\n', '\\nThe Peanut Butter Falcon\\n', '\\nOnce Upon a Time', '\\nMarriage Story\\n', '\\nUs\\n', '\\nSound! Euphonium the Movie - Our Promise: A Brand New Day\\n', '\\nHow to Train Your Dragon: The Hidden World\\n', '\\nRichard Jewell\\n', '\\nAlita: Battle Angel\\n', '\\nGood Boys\\n', '\\nKnives Out\\n', '\\n1917\\n', '\\nIt Chapter Two\\n', '\\nFord v Ferrari\\n', '\\nHoney Boy\\n', '\\nAvengers: Endgame\\n', '\\nFrozen II\\n', '\\nGlass\\n', '\\nRascal Does Not Dream of Bunny Girl Senpai The Movie\\n', '\\nBombshell\\n', '\\nThe Two Popes\\n', '\\nRocketman\\n', '\\nFighting with My Family\\n', '\\nDoctor Sleep\\n', '\\nMissing Link\\n', '\\nThe Lighthouse\\n', '\\nLittle Women\\n', '\\nMotherless Brooklyn\\n', '\\nArctic\\n', '\\nJoker\\n', '\\nThe Farewell\\n', '\\nI Lost My Body\\n', '\\nThe Lego Movie 2: The Second Part\\n', '\\nJust Mercy\\n', '\\nThe Irishman\\n', '\\nThe Lion King\\n', '\\nSpider-Man: Far from Home\\n', '\\nApollo 11\\n', '\\nMidsommar\\n', '\\nDolemite Is My Name\\n', '\\nShazam!\\n', '\\nFive Feet Apart\\n', '\\nJohn Wick: Chapter 3 - Parabellum\\n', '\\nA Beautiful Day in the Neighborhood\\n', '\\nUncut Gems\\n', '\\nPet Sematary\\n', '\\nAladdin\\n', '\\nStar Wars: The Rise Of Skywalker\\n', '\\nThe Art of Racing in the Rain\\n', '\\nJudy\\n', '\\nHotel Mumbai\\n', '\\nPokémon Detective Pikachu\\n', '\\nLong Shot\\n', '\\nHarriet\\n', '\\nTeen Spirit\\n', '\\nMaleficent: Mistress of Evil\\n', '\\nThe Upside\\n', '\\nCaptain Marvel\\n', '\\nReady or Not\\n', '\\nAd Astra\\n', '\\nGloria Bell\\n', '\\nSaga of Tanya the Evil - The Movie\\n', '\\nThe Aeronauts\\n', '\\nLate Night\\n', '\\nZombieland: Double Tap\\n', '\\nAngel Has Fallen\\n', '\\nNe Zha\\n', '\\nLast Christmas\\n', '\\nMa\\n', '\\nDumbo\\n', '\\nTolkien\\n', '\\nAbominable\\n', '\\nDownton Abbey\\n', '\\nAsako I & II\\n', \"\\nOkko's Inn\\n\", '\\nBlinded by the Light\\n', '\\nJumanji: The Next Level\\n', '\\nTerminator: Dark Fate\\n', '\\nIs It Wrong to Try to Pick Up Girls in a Dungeon - Arrow of the Orion\\n', '\\nFast & Furious Presents: Hobbs & Shaw\\n', '\\nPenguins\\n', '\\nMidway\\n', '\\nMen in Black: International\\n', '\\nThe Wandering Earth\\n', '\\nSerenity\\n', '\\nScary Stories to Tell in the Dark\\n', '\\nLady and the Tramp\\n', '\\nThe Secret Life of Pets 2\\n', '\\nBlackfox\\n', '\\nAnna\\n', '\\nSpies in Disguise\\n', '\\nGodzilla: King of the Monsters\\n', '\\nCaptive State\\n']\n",
      "['7.9', '7.2', '8.6', '6.8', '7.7', '8.2', '7.6', '7.5', '7.6', '7.6', '7.9', '6.8', '7.1', '7.5', '7.5', '7.3', '6.7', '7.9', '8.3', '6.5', '8.1', '7.3', '8.4', '6.8', '6.6', '8.3', '6.8', '7.6', '7.3', '7.1', '7.3', '6.7', '7.5', '7.8', '6.8', '6.8', '8.4', '7.6', '7.6', '6.6', '7.6', '7.8', '6.8', '7.5', '8.2', '7.1', '7.3', '7', '7.2', '7.4', '7.3', '7.4', '5.7', '6.9', '6.5', '7.6', '6.8', '7.6', '6.6', '6.8', '6.6', '6.1', '6.6', '7', '6.8', '6.9', '6.5', '6.3', '7.6', '6.6', '6.5', '6.7', '6.4', '7.5', '6.5', '5.6', '6.3', '6.8', '7', '7.4', '6.8', '7.1', '6.9', '6.7', '6.2', '6.9', '6.4', '7.1', '6.7', '5.6', '6', '5.4', '6.2', '6.3', '6.5', '6.2', '6.6', '6.8', '6', '6']\n"
     ]
    }
   ],
   "source": [
    "headline1 = []\n",
    "headline2 =[]\n",
    "\n",
    "for result in titles:\n",
    "                \n",
    "    try:\n",
    "      \n",
    "        link = result.find('h3', class_='lister-item-header').text\n",
    "         \n",
    "        title = link.split('.')[1]\n",
    "        title1 = title.split('(')[0]\n",
    "       \n",
    "        link1 = result.find('span', class_='ipl-rating-star__rating').text \n",
    "        \n",
    "        if (title1 and link1):\n",
    "          \n",
    "#             print(title1)\n",
    "#             print(link1)\n",
    "            headline1.append(title1)\n",
    "            headline2.append(link1)\n",
    "           \n",
    "\n",
    "    except AttributeError as e:\n",
    "        print(e)\n",
    "print(headline1)\n",
    "print(headline2)\n",
    "\n"
   ]
  },
  {
   "cell_type": "code",
   "execution_count": 20,
   "metadata": {},
   "outputs": [
    {
     "data": {
      "text/html": [
       "<div>\n",
       "<style scoped>\n",
       "    .dataframe tbody tr th:only-of-type {\n",
       "        vertical-align: middle;\n",
       "    }\n",
       "\n",
       "    .dataframe tbody tr th {\n",
       "        vertical-align: top;\n",
       "    }\n",
       "\n",
       "    .dataframe thead th {\n",
       "        text-align: right;\n",
       "    }\n",
       "</style>\n",
       "<table border=\"1\" class=\"dataframe\">\n",
       "  <thead>\n",
       "    <tr style=\"text-align: right;\">\n",
       "      <th></th>\n",
       "      <th>Movie Title</th>\n",
       "      <th>Ratings</th>\n",
       "    </tr>\n",
       "  </thead>\n",
       "  <tbody>\n",
       "    <tr>\n",
       "      <th>0</th>\n",
       "      <td>\\nJojo Rabbit\\n</td>\n",
       "      <td>7.9</td>\n",
       "    </tr>\n",
       "    <tr>\n",
       "      <th>1</th>\n",
       "      <td>\\nBooksmart\\n</td>\n",
       "      <td>7.2</td>\n",
       "    </tr>\n",
       "    <tr>\n",
       "      <th>2</th>\n",
       "      <td>\\nParasite\\n</td>\n",
       "      <td>8.6</td>\n",
       "    </tr>\n",
       "    <tr>\n",
       "      <th>3</th>\n",
       "      <td>\\nYesterday\\n</td>\n",
       "      <td>6.8</td>\n",
       "    </tr>\n",
       "    <tr>\n",
       "      <th>4</th>\n",
       "      <td>\\nToy Story 4\\n</td>\n",
       "      <td>7.7</td>\n",
       "    </tr>\n",
       "    <tr>\n",
       "      <th>...</th>\n",
       "      <td>...</td>\n",
       "      <td>...</td>\n",
       "    </tr>\n",
       "    <tr>\n",
       "      <th>95</th>\n",
       "      <td>\\nBlackfox\\n</td>\n",
       "      <td>6.2</td>\n",
       "    </tr>\n",
       "    <tr>\n",
       "      <th>96</th>\n",
       "      <td>\\nAnna\\n</td>\n",
       "      <td>6.6</td>\n",
       "    </tr>\n",
       "    <tr>\n",
       "      <th>97</th>\n",
       "      <td>\\nSpies in Disguise\\n</td>\n",
       "      <td>6.8</td>\n",
       "    </tr>\n",
       "    <tr>\n",
       "      <th>98</th>\n",
       "      <td>\\nGodzilla: King of the Monsters\\n</td>\n",
       "      <td>6</td>\n",
       "    </tr>\n",
       "    <tr>\n",
       "      <th>99</th>\n",
       "      <td>\\nCaptive State\\n</td>\n",
       "      <td>6</td>\n",
       "    </tr>\n",
       "  </tbody>\n",
       "</table>\n",
       "<p>100 rows × 2 columns</p>\n",
       "</div>"
      ],
      "text/plain": [
       "                           Movie Title Ratings\n",
       "0                      \\nJojo Rabbit\\n     7.9\n",
       "1                        \\nBooksmart\\n     7.2\n",
       "2                         \\nParasite\\n     8.6\n",
       "3                        \\nYesterday\\n     6.8\n",
       "4                      \\nToy Story 4\\n     7.7\n",
       "..                                 ...     ...\n",
       "95                        \\nBlackfox\\n     6.2\n",
       "96                            \\nAnna\\n     6.6\n",
       "97               \\nSpies in Disguise\\n     6.8\n",
       "98  \\nGodzilla: King of the Monsters\\n       6\n",
       "99                   \\nCaptive State\\n       6\n",
       "\n",
       "[100 rows x 2 columns]"
      ]
     },
     "execution_count": 20,
     "metadata": {},
     "output_type": "execute_result"
    }
   ],
   "source": [
    "frame_df = pd.DataFrame({\n",
    "    \"Movie Title\": headline1,\n",
    "    \"Ratings\": headline2,\n",
    "    \n",
    "})\n",
    "frame_df"
   ]
  },
  {
   "cell_type": "code",
   "execution_count": null,
   "metadata": {},
   "outputs": [],
   "source": []
  },
  {
   "cell_type": "code",
   "execution_count": null,
   "metadata": {},
   "outputs": [],
   "source": []
  },
  {
   "cell_type": "code",
   "execution_count": null,
   "metadata": {},
   "outputs": [],
   "source": []
  }
 ],
 "metadata": {
  "kernelspec": {
   "display_name": "Python 3",
   "language": "python",
   "name": "python3"
  },
  "language_info": {
   "codemirror_mode": {
    "name": "ipython",
    "version": 3
   },
   "file_extension": ".py",
   "mimetype": "text/x-python",
   "name": "python",
   "nbconvert_exporter": "python",
   "pygments_lexer": "ipython3",
   "version": "3.8.5"
  }
 },
 "nbformat": 4,
 "nbformat_minor": 5
}
